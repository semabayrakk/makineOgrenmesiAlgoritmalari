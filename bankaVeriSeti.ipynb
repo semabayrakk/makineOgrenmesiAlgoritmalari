{
 "cells": [
  {
   "cell_type": "code",
   "execution_count": 1,
   "id": "bcd8cc3a",
   "metadata": {},
   "outputs": [],
   "source": [
    "#kütüphaneler\n",
    "import pandas as pd #pandas kütüphanesi import edildi verilere erişmek için \n",
    "from sklearn import preprocessing #standartlaştırma için kullandığımız fonksiyon \n",
    "import matplotlib.pyplot as plt #çizimler için \n",
    "import numpy as np #büyük sayılar ve hesaplama için numpy kütüphanesi import edildir\n",
    "from sklearn.preprocessing import MinMaxScaler\n",
    "import seaborn as sns \n",
    "from sklearn.linear_model import LogisticRegression\n",
    "from sklearn.metrics import confusion_matrix #regrasyon için \n",
    "from sklearn.naive_bayes import BernoulliNB \n",
    "from sklearn.svm import SVC\n",
    "from sklearn.preprocessing import StandardScaler #standartlaştırma için\n",
    "from sklearn.neighbors import KNeighborsClassifier\n",
    "from sklearn.metrics import accuracy_score\n",
    "from sklearn.metrics import precision_score\n",
    "from sklearn.metrics import recall_score\n",
    "from sklearn.metrics import f1_score\n",
    "from sklearn.model_selection import train_test_split\n",
    "from sklearn.metrics import ConfusionMatrixDisplay\n"
   ]
  },
  {
   "cell_type": "code",
   "execution_count": 2,
   "id": "cd6cff83",
   "metadata": {},
   "outputs": [
    {
     "data": {
      "text/html": [
       "<div>\n",
       "<style scoped>\n",
       "    .dataframe tbody tr th:only-of-type {\n",
       "        vertical-align: middle;\n",
       "    }\n",
       "\n",
       "    .dataframe tbody tr th {\n",
       "        vertical-align: top;\n",
       "    }\n",
       "\n",
       "    .dataframe thead th {\n",
       "        text-align: right;\n",
       "    }\n",
       "</style>\n",
       "<table border=\"1\" class=\"dataframe\">\n",
       "  <thead>\n",
       "    <tr style=\"text-align: right;\">\n",
       "      <th></th>\n",
       "      <th>age</th>\n",
       "      <th>job</th>\n",
       "      <th>marital</th>\n",
       "      <th>education</th>\n",
       "      <th>default</th>\n",
       "      <th>balance</th>\n",
       "      <th>housing</th>\n",
       "      <th>loan</th>\n",
       "      <th>contact</th>\n",
       "      <th>day</th>\n",
       "      <th>month</th>\n",
       "      <th>duration</th>\n",
       "      <th>campaign</th>\n",
       "      <th>pdays</th>\n",
       "      <th>previous</th>\n",
       "      <th>poutcome</th>\n",
       "      <th>deposit</th>\n",
       "    </tr>\n",
       "  </thead>\n",
       "  <tbody>\n",
       "    <tr>\n",
       "      <th>0</th>\n",
       "      <td>59</td>\n",
       "      <td>admin.</td>\n",
       "      <td>married</td>\n",
       "      <td>secondary</td>\n",
       "      <td>no</td>\n",
       "      <td>2343</td>\n",
       "      <td>yes</td>\n",
       "      <td>no</td>\n",
       "      <td>unknown</td>\n",
       "      <td>5</td>\n",
       "      <td>may</td>\n",
       "      <td>1042</td>\n",
       "      <td>1</td>\n",
       "      <td>-1</td>\n",
       "      <td>0</td>\n",
       "      <td>unknown</td>\n",
       "      <td>yes</td>\n",
       "    </tr>\n",
       "    <tr>\n",
       "      <th>1</th>\n",
       "      <td>56</td>\n",
       "      <td>admin.</td>\n",
       "      <td>married</td>\n",
       "      <td>secondary</td>\n",
       "      <td>no</td>\n",
       "      <td>45</td>\n",
       "      <td>no</td>\n",
       "      <td>no</td>\n",
       "      <td>unknown</td>\n",
       "      <td>5</td>\n",
       "      <td>may</td>\n",
       "      <td>1467</td>\n",
       "      <td>1</td>\n",
       "      <td>-1</td>\n",
       "      <td>0</td>\n",
       "      <td>unknown</td>\n",
       "      <td>yes</td>\n",
       "    </tr>\n",
       "    <tr>\n",
       "      <th>2</th>\n",
       "      <td>41</td>\n",
       "      <td>technician</td>\n",
       "      <td>married</td>\n",
       "      <td>secondary</td>\n",
       "      <td>no</td>\n",
       "      <td>1270</td>\n",
       "      <td>yes</td>\n",
       "      <td>no</td>\n",
       "      <td>unknown</td>\n",
       "      <td>5</td>\n",
       "      <td>may</td>\n",
       "      <td>1389</td>\n",
       "      <td>1</td>\n",
       "      <td>-1</td>\n",
       "      <td>0</td>\n",
       "      <td>unknown</td>\n",
       "      <td>yes</td>\n",
       "    </tr>\n",
       "    <tr>\n",
       "      <th>3</th>\n",
       "      <td>55</td>\n",
       "      <td>services</td>\n",
       "      <td>married</td>\n",
       "      <td>secondary</td>\n",
       "      <td>no</td>\n",
       "      <td>2476</td>\n",
       "      <td>yes</td>\n",
       "      <td>no</td>\n",
       "      <td>unknown</td>\n",
       "      <td>5</td>\n",
       "      <td>may</td>\n",
       "      <td>579</td>\n",
       "      <td>1</td>\n",
       "      <td>-1</td>\n",
       "      <td>0</td>\n",
       "      <td>unknown</td>\n",
       "      <td>yes</td>\n",
       "    </tr>\n",
       "    <tr>\n",
       "      <th>4</th>\n",
       "      <td>54</td>\n",
       "      <td>admin.</td>\n",
       "      <td>married</td>\n",
       "      <td>tertiary</td>\n",
       "      <td>no</td>\n",
       "      <td>184</td>\n",
       "      <td>no</td>\n",
       "      <td>no</td>\n",
       "      <td>unknown</td>\n",
       "      <td>5</td>\n",
       "      <td>may</td>\n",
       "      <td>673</td>\n",
       "      <td>2</td>\n",
       "      <td>-1</td>\n",
       "      <td>0</td>\n",
       "      <td>unknown</td>\n",
       "      <td>yes</td>\n",
       "    </tr>\n",
       "    <tr>\n",
       "      <th>...</th>\n",
       "      <td>...</td>\n",
       "      <td>...</td>\n",
       "      <td>...</td>\n",
       "      <td>...</td>\n",
       "      <td>...</td>\n",
       "      <td>...</td>\n",
       "      <td>...</td>\n",
       "      <td>...</td>\n",
       "      <td>...</td>\n",
       "      <td>...</td>\n",
       "      <td>...</td>\n",
       "      <td>...</td>\n",
       "      <td>...</td>\n",
       "      <td>...</td>\n",
       "      <td>...</td>\n",
       "      <td>...</td>\n",
       "      <td>...</td>\n",
       "    </tr>\n",
       "    <tr>\n",
       "      <th>95</th>\n",
       "      <td>37</td>\n",
       "      <td>management</td>\n",
       "      <td>divorced</td>\n",
       "      <td>tertiary</td>\n",
       "      <td>no</td>\n",
       "      <td>122</td>\n",
       "      <td>yes</td>\n",
       "      <td>no</td>\n",
       "      <td>unknown</td>\n",
       "      <td>19</td>\n",
       "      <td>may</td>\n",
       "      <td>1622</td>\n",
       "      <td>2</td>\n",
       "      <td>-1</td>\n",
       "      <td>0</td>\n",
       "      <td>unknown</td>\n",
       "      <td>yes</td>\n",
       "    </tr>\n",
       "    <tr>\n",
       "      <th>96</th>\n",
       "      <td>30</td>\n",
       "      <td>technician</td>\n",
       "      <td>single</td>\n",
       "      <td>tertiary</td>\n",
       "      <td>no</td>\n",
       "      <td>880</td>\n",
       "      <td>yes</td>\n",
       "      <td>yes</td>\n",
       "      <td>unknown</td>\n",
       "      <td>19</td>\n",
       "      <td>may</td>\n",
       "      <td>967</td>\n",
       "      <td>6</td>\n",
       "      <td>-1</td>\n",
       "      <td>0</td>\n",
       "      <td>unknown</td>\n",
       "      <td>yes</td>\n",
       "    </tr>\n",
       "    <tr>\n",
       "      <th>97</th>\n",
       "      <td>41</td>\n",
       "      <td>technician</td>\n",
       "      <td>married</td>\n",
       "      <td>secondary</td>\n",
       "      <td>no</td>\n",
       "      <td>501</td>\n",
       "      <td>yes</td>\n",
       "      <td>no</td>\n",
       "      <td>unknown</td>\n",
       "      <td>19</td>\n",
       "      <td>may</td>\n",
       "      <td>579</td>\n",
       "      <td>5</td>\n",
       "      <td>-1</td>\n",
       "      <td>0</td>\n",
       "      <td>unknown</td>\n",
       "      <td>yes</td>\n",
       "    </tr>\n",
       "    <tr>\n",
       "      <th>98</th>\n",
       "      <td>36</td>\n",
       "      <td>blue-collar</td>\n",
       "      <td>married</td>\n",
       "      <td>secondary</td>\n",
       "      <td>no</td>\n",
       "      <td>4438</td>\n",
       "      <td>yes</td>\n",
       "      <td>no</td>\n",
       "      <td>unknown</td>\n",
       "      <td>20</td>\n",
       "      <td>may</td>\n",
       "      <td>446</td>\n",
       "      <td>1</td>\n",
       "      <td>-1</td>\n",
       "      <td>0</td>\n",
       "      <td>unknown</td>\n",
       "      <td>yes</td>\n",
       "    </tr>\n",
       "    <tr>\n",
       "      <th>99</th>\n",
       "      <td>35</td>\n",
       "      <td>blue-collar</td>\n",
       "      <td>divorced</td>\n",
       "      <td>secondary</td>\n",
       "      <td>no</td>\n",
       "      <td>0</td>\n",
       "      <td>yes</td>\n",
       "      <td>no</td>\n",
       "      <td>unknown</td>\n",
       "      <td>20</td>\n",
       "      <td>may</td>\n",
       "      <td>1205</td>\n",
       "      <td>1</td>\n",
       "      <td>-1</td>\n",
       "      <td>0</td>\n",
       "      <td>unknown</td>\n",
       "      <td>yes</td>\n",
       "    </tr>\n",
       "  </tbody>\n",
       "</table>\n",
       "<p>100 rows × 17 columns</p>\n",
       "</div>"
      ],
      "text/plain": [
       "    age          job   marital  education default  balance housing loan  \\\n",
       "0    59       admin.   married  secondary      no     2343     yes   no   \n",
       "1    56       admin.   married  secondary      no       45      no   no   \n",
       "2    41   technician   married  secondary      no     1270     yes   no   \n",
       "3    55     services   married  secondary      no     2476     yes   no   \n",
       "4    54       admin.   married   tertiary      no      184      no   no   \n",
       "..  ...          ...       ...        ...     ...      ...     ...  ...   \n",
       "95   37   management  divorced   tertiary      no      122     yes   no   \n",
       "96   30   technician    single   tertiary      no      880     yes  yes   \n",
       "97   41   technician   married  secondary      no      501     yes   no   \n",
       "98   36  blue-collar   married  secondary      no     4438     yes   no   \n",
       "99   35  blue-collar  divorced  secondary      no        0     yes   no   \n",
       "\n",
       "    contact  day month  duration  campaign  pdays  previous poutcome deposit  \n",
       "0   unknown    5   may      1042         1     -1         0  unknown     yes  \n",
       "1   unknown    5   may      1467         1     -1         0  unknown     yes  \n",
       "2   unknown    5   may      1389         1     -1         0  unknown     yes  \n",
       "3   unknown    5   may       579         1     -1         0  unknown     yes  \n",
       "4   unknown    5   may       673         2     -1         0  unknown     yes  \n",
       "..      ...  ...   ...       ...       ...    ...       ...      ...     ...  \n",
       "95  unknown   19   may      1622         2     -1         0  unknown     yes  \n",
       "96  unknown   19   may       967         6     -1         0  unknown     yes  \n",
       "97  unknown   19   may       579         5     -1         0  unknown     yes  \n",
       "98  unknown   20   may       446         1     -1         0  unknown     yes  \n",
       "99  unknown   20   may      1205         1     -1         0  unknown     yes  \n",
       "\n",
       "[100 rows x 17 columns]"
      ]
     },
     "execution_count": 2,
     "metadata": {},
     "output_type": "execute_result"
    }
   ],
   "source": [
    "#veri seti bir bankanın telefon ile pazarlama kamoanyaları ile ilgilidir. \n",
    "#sınıflandırma hedefi müşterinin vadeli mevduata abone olup olmayacağı ile ilgilidir(default)\n",
    "bankaVeriSeti=pd.read_csv('bank.csv') #bank.csv veri seti \"bankaVeriSeti\" değişkenine atandı\n",
    "bankaVeriSeti.head(100)\n",
    "\n",
    "#jog=bankaVeriSeti[['job']] özelliği almka için \n",
    "#iki tane özellik çekmek içim bankaVeriSeti[['job','marital']]"
   ]
  },
  {
   "cell_type": "code",
   "execution_count": 3,
   "id": "b9b0c5f8",
   "metadata": {},
   "outputs": [
    {
     "name": "stdout",
     "output_type": "stream",
     "text": [
      "(11162, 17)\n",
      "Index(['age', 'job', 'marital', 'education', 'default', 'balance', 'housing',\n",
      "       'loan', 'contact', 'day', 'month', 'duration', 'campaign', 'pdays',\n",
      "       'previous', 'poutcome', 'deposit'],\n",
      "      dtype='object')\n"
     ]
    }
   ],
   "source": [
    "print(bankaVeriSeti.shape)\n",
    "#verisetimizde 11162 satır, 17 özellik var\n",
    "\n",
    "print(bankaVeriSeti.columns)"
   ]
  },
  {
   "cell_type": "code",
   "execution_count": 4,
   "id": "4f24aac2",
   "metadata": {},
   "outputs": [
    {
     "data": {
      "text/plain": [
       "age           int64\n",
       "job          object\n",
       "marital      object\n",
       "education    object\n",
       "default      object\n",
       "balance       int64\n",
       "housing      object\n",
       "loan         object\n",
       "contact      object\n",
       "day           int64\n",
       "month        object\n",
       "duration      int64\n",
       "campaign      int64\n",
       "pdays         int64\n",
       "previous      int64\n",
       "poutcome     object\n",
       "deposit      object\n",
       "dtype: object"
      ]
     },
     "execution_count": 4,
     "metadata": {},
     "output_type": "execute_result"
    }
   ],
   "source": [
    "bankaVeriSeti.dtypes"
   ]
  },
  {
   "cell_type": "code",
   "execution_count": 5,
   "id": "2d875650",
   "metadata": {},
   "outputs": [],
   "source": [
    "#öncelikle veri setimizdeki string değerleri sayısal bir değer olarak ifade etmeliyiz\n",
    "#bunun için Veri Biliminde Kategorik Değişkenler, Dummy (Kukla) Variable ve Python Uygulamas yapılacak"
   ]
  },
  {
   "cell_type": "code",
   "execution_count": 6,
   "id": "a382bf6e",
   "metadata": {},
   "outputs": [
    {
     "name": "stdout",
     "output_type": "stream",
     "text": [
      "no     5873\n",
      "yes    5289\n",
      "Name: deposit, dtype: int64\n"
     ]
    }
   ],
   "source": [
    "print(bankaVeriSeti.deposit.value_counts()) #\"deposit\" değerinin aldığı değerleri görelim"
   ]
  },
  {
   "cell_type": "code",
   "execution_count": 7,
   "id": "4c9dd781",
   "metadata": {},
   "outputs": [],
   "source": [
    "def encode(x):\n",
    "    if x == \"yes\":\n",
    "        return 1\n",
    "    elif x == \"no\":\n",
    "        return 0\n",
    "    else:\n",
    "        return 2\n",
    "\n",
    "bankaVeriSeti[\"deposit_encode\"] = bankaVeriSeti.apply(lambda x: encode(x[\"deposit\"]), axis = 1)\n",
    "\n",
    "bankaVeriSeti = pd.get_dummies(bankaVeriSeti ,prefix = \"deposit\" \n",
    "                    ,columns = [\"deposit\"]\n",
    "                    ,drop_first = True)"
   ]
  },
  {
   "cell_type": "code",
   "execution_count": 8,
   "id": "d3584f3e",
   "metadata": {},
   "outputs": [
    {
     "name": "stdout",
     "output_type": "stream",
     "text": [
      "0    5873\n",
      "1    5289\n",
      "Name: deposit_encode, dtype: int64\n"
     ]
    }
   ],
   "source": [
    "print(bankaVeriSeti.deposit_encode.value_counts())"
   ]
  },
  {
   "cell_type": "code",
   "execution_count": 9,
   "id": "4347d447",
   "metadata": {},
   "outputs": [
    {
     "name": "stdout",
     "output_type": "stream",
     "text": [
      "unknown    8326\n",
      "failure    1228\n",
      "success    1071\n",
      "other       537\n",
      "Name: poutcome, dtype: int64\n"
     ]
    }
   ],
   "source": [
    "print(bankaVeriSeti.poutcome.value_counts())"
   ]
  },
  {
   "cell_type": "code",
   "execution_count": 10,
   "id": "2fa94fba",
   "metadata": {},
   "outputs": [],
   "source": [
    "def encode(x):\n",
    "    if x == \"unknown\":\n",
    "        return 0\n",
    "    elif x == \"failure\":\n",
    "        return 1\n",
    "    elif x ==\"success\":\n",
    "        return 2\n",
    "    else:  \n",
    "        return 3\n",
    "\n",
    "bankaVeriSeti[\"poutcome_encode\"] = bankaVeriSeti.apply(lambda x: encode(x[\"poutcome\"]), axis = 1)\n",
    "\n",
    "bankaVeriSeti = pd.get_dummies(bankaVeriSeti ,prefix = \"poutcome\" \n",
    "                    ,columns = [\"poutcome\"]\n",
    "                    ,drop_first = True)"
   ]
  },
  {
   "cell_type": "code",
   "execution_count": 11,
   "id": "6f15e577",
   "metadata": {
    "scrolled": true
   },
   "outputs": [
    {
     "name": "stdout",
     "output_type": "stream",
     "text": [
      "may    2824\n",
      "aug    1519\n",
      "jul    1514\n",
      "jun    1222\n",
      "nov     943\n",
      "apr     923\n",
      "feb     776\n",
      "oct     392\n",
      "jan     344\n",
      "sep     319\n",
      "mar     276\n",
      "dec     110\n",
      "Name: month, dtype: int64\n"
     ]
    }
   ],
   "source": [
    "print(bankaVeriSeti.month.value_counts())"
   ]
  },
  {
   "cell_type": "code",
   "execution_count": 12,
   "id": "8863a7d9",
   "metadata": {},
   "outputs": [],
   "source": [
    "def encode(x):\n",
    "    if x == \"may\":\n",
    "        return 1\n",
    "    elif x == \"aug\":\n",
    "        return 2\n",
    "    elif x ==\"jul\":\n",
    "        return 3\n",
    "    elif x == \"jun\":\n",
    "        return 4\n",
    "    elif x ==\"nov\":\n",
    "        return 5\n",
    "    elif x == \"apr\":\n",
    "        return 6\n",
    "    elif x ==\"feb\":\n",
    "        return 7\n",
    "    elif x == \"oct\":\n",
    "        return 8\n",
    "    elif x ==\"jan\":\n",
    "        return 9\n",
    "    elif x == \"sep\":\n",
    "        return 10\n",
    "    elif x ==\"mar\":\n",
    "        return 11\n",
    "    else:  \n",
    "        return 10\n",
    "\n",
    "bankaVeriSeti[\"month_encode\"] = bankaVeriSeti.apply(lambda x: encode(x[\"month\"]), axis = 1)\n",
    "\n",
    "bankaVeriSeti = pd.get_dummies(bankaVeriSeti ,prefix = \"month\" \n",
    "                    ,columns = [\"month\"]\n",
    "                    ,drop_first = True)"
   ]
  },
  {
   "cell_type": "code",
   "execution_count": 13,
   "id": "3c9e531d",
   "metadata": {},
   "outputs": [
    {
     "name": "stdout",
     "output_type": "stream",
     "text": [
      "cellular     8042\n",
      "unknown      2346\n",
      "telephone     774\n",
      "Name: contact, dtype: int64\n"
     ]
    }
   ],
   "source": [
    "print(bankaVeriSeti.contact.value_counts())"
   ]
  },
  {
   "cell_type": "code",
   "execution_count": 14,
   "id": "704c3cbd",
   "metadata": {},
   "outputs": [],
   "source": [
    "def encode(x):\n",
    "    if x == \"unknown\":\n",
    "        return 0\n",
    "    elif x == \"cellular\":\n",
    "        return 1\n",
    "    elif x ==\"telephone\":\n",
    "        return 2\n",
    "    else:  \n",
    "        return 3\n",
    "\n",
    "bankaVeriSeti[\"contact_encode\"] = bankaVeriSeti.apply(lambda x: encode(x[\"contact\"]), axis = 1)\n",
    "\n",
    "bankaVeriSeti = pd.get_dummies(bankaVeriSeti ,prefix = \"contact\" \n",
    "                    ,columns = [\"contact\"]\n",
    "                    ,drop_first = True)"
   ]
  },
  {
   "cell_type": "code",
   "execution_count": 15,
   "id": "a1cbcd55",
   "metadata": {},
   "outputs": [
    {
     "name": "stdout",
     "output_type": "stream",
     "text": [
      "no     9702\n",
      "yes    1460\n",
      "Name: loan, dtype: int64\n"
     ]
    }
   ],
   "source": [
    "print(bankaVeriSeti.loan.value_counts())"
   ]
  },
  {
   "cell_type": "code",
   "execution_count": 16,
   "id": "b048e199",
   "metadata": {},
   "outputs": [],
   "source": [
    "def encode(x):\n",
    "    if x == \"no\":\n",
    "        return 0\n",
    "    elif x == \"yes\":\n",
    "        return 1\n",
    "    else:\n",
    "        return 2\n",
    "\n",
    "bankaVeriSeti[\"loan_encode\"] = bankaVeriSeti.apply(lambda x: encode(x[\"loan\"]), axis = 1)\n",
    "\n",
    "bankaVeriSeti = pd.get_dummies(bankaVeriSeti ,prefix = \"loan\" \n",
    "                    ,columns = [\"loan\"]\n",
    "                    ,drop_first = True)"
   ]
  },
  {
   "cell_type": "code",
   "execution_count": 17,
   "id": "a7bbfa53",
   "metadata": {},
   "outputs": [
    {
     "name": "stdout",
     "output_type": "stream",
     "text": [
      "no     5881\n",
      "yes    5281\n",
      "Name: housing, dtype: int64\n"
     ]
    }
   ],
   "source": [
    "print(bankaVeriSeti.housing.value_counts())"
   ]
  },
  {
   "cell_type": "code",
   "execution_count": 18,
   "id": "3971a027",
   "metadata": {},
   "outputs": [],
   "source": [
    "def encode(x):\n",
    "    if x == \"no\":\n",
    "        return 0\n",
    "    elif x == \"yes\":\n",
    "        return 1\n",
    "    else:\n",
    "        return 2\n",
    "\n",
    "bankaVeriSeti[\"housing_encode\"] = bankaVeriSeti.apply(lambda x: encode(x[\"housing\"]), axis = 1)\n",
    "\n",
    "bankaVeriSeti = pd.get_dummies(bankaVeriSeti ,prefix = \"housing\" \n",
    "                    ,columns = [\"housing\"]\n",
    "                    ,drop_first = True)"
   ]
  },
  {
   "cell_type": "code",
   "execution_count": 19,
   "id": "06b21ef2",
   "metadata": {},
   "outputs": [
    {
     "name": "stdout",
     "output_type": "stream",
     "text": [
      "no     10994\n",
      "yes      168\n",
      "Name: default, dtype: int64\n"
     ]
    }
   ],
   "source": [
    "print(bankaVeriSeti.default.value_counts())"
   ]
  },
  {
   "cell_type": "code",
   "execution_count": 20,
   "id": "2ddae790",
   "metadata": {},
   "outputs": [],
   "source": [
    "def encode(x):\n",
    "    if x == \"no\":\n",
    "        return 0\n",
    "    elif x == \"yes\":\n",
    "        return 1\n",
    "    else:\n",
    "        return 2\n",
    "\n",
    "bankaVeriSeti[\"default_encode\"] = bankaVeriSeti.apply(lambda x: encode(x[\"default\"]), axis = 1)\n",
    "\n",
    "bankaVeriSeti = pd.get_dummies(bankaVeriSeti ,prefix = \"default\" \n",
    "                    ,columns = [\"default\"]\n",
    "                    ,drop_first = True)"
   ]
  },
  {
   "cell_type": "code",
   "execution_count": 21,
   "id": "a7279247",
   "metadata": {},
   "outputs": [
    {
     "name": "stdout",
     "output_type": "stream",
     "text": [
      "secondary    5476\n",
      "tertiary     3689\n",
      "primary      1500\n",
      "unknown       497\n",
      "Name: education, dtype: int64\n"
     ]
    }
   ],
   "source": [
    "print(bankaVeriSeti.education.value_counts())"
   ]
  },
  {
   "cell_type": "code",
   "execution_count": 22,
   "id": "081e6e82",
   "metadata": {},
   "outputs": [],
   "source": [
    "def encode(x):\n",
    "    if x == \"secondary\":\n",
    "        return 1\n",
    "    elif x == \"tertiary\":\n",
    "        return 2\n",
    "    elif x ==\"primary\":\n",
    "        return 3\n",
    "    elif x ==\"unknown\":\n",
    "        return 4\n",
    "    else:  \n",
    "        return 5\n",
    "\n",
    "bankaVeriSeti[\"education_encode\"] = bankaVeriSeti.apply(lambda x: encode(x[\"education\"]), axis = 1)\n",
    "\n",
    "bankaVeriSeti = pd.get_dummies(bankaVeriSeti ,prefix = \"education\" \n",
    "                    ,columns = [\"education\"]\n",
    "                    ,drop_first = True)"
   ]
  },
  {
   "cell_type": "code",
   "execution_count": 23,
   "id": "cb13e4ff",
   "metadata": {},
   "outputs": [
    {
     "name": "stdout",
     "output_type": "stream",
     "text": [
      "married     6351\n",
      "single      3518\n",
      "divorced    1293\n",
      "Name: marital, dtype: int64\n"
     ]
    }
   ],
   "source": [
    "print(bankaVeriSeti.marital.value_counts())"
   ]
  },
  {
   "cell_type": "code",
   "execution_count": 24,
   "id": "5cd2d7bd",
   "metadata": {},
   "outputs": [],
   "source": [
    "def encode(x):\n",
    "    if x == \"married\":\n",
    "        return 1\n",
    "    elif x == \"single\":\n",
    "        return 2\n",
    "    elif x == \"divorced\":\n",
    "        return 3\n",
    "    else:\n",
    "        return 4\n",
    "\n",
    "bankaVeriSeti[\"marital_encode\"] = bankaVeriSeti.apply(lambda x: encode(x[\"marital\"]), axis = 1)\n",
    "\n",
    "bankaVeriSeti = pd.get_dummies(bankaVeriSeti ,prefix = \"marital\" \n",
    "                    ,columns = [\"marital\"]\n",
    "                    ,drop_first = True)"
   ]
  },
  {
   "cell_type": "code",
   "execution_count": 25,
   "id": "ac71697d",
   "metadata": {},
   "outputs": [
    {
     "name": "stdout",
     "output_type": "stream",
     "text": [
      "management       2566\n",
      "blue-collar      1944\n",
      "technician       1823\n",
      "admin.           1334\n",
      "services          923\n",
      "retired           778\n",
      "self-employed     405\n",
      "student           360\n",
      "unemployed        357\n",
      "entrepreneur      328\n",
      "housemaid         274\n",
      "unknown            70\n",
      "Name: job, dtype: int64\n"
     ]
    }
   ],
   "source": [
    "print(bankaVeriSeti.job.value_counts())"
   ]
  },
  {
   "cell_type": "code",
   "execution_count": 26,
   "id": "c2ac63d6",
   "metadata": {},
   "outputs": [],
   "source": [
    "def encode(x):\n",
    "    if x == \"management\":\n",
    "        return 1\n",
    "    elif x == \"blue-collar\":\n",
    "        return 2\n",
    "    elif x ==\"technician\":\n",
    "        return 3\n",
    "    elif x == \"admin.\":\n",
    "        return 4\n",
    "    elif x ==\"services\":\n",
    "        return 5\n",
    "    elif x == \"retired\":\n",
    "        return 6\n",
    "    elif x ==\"self-employed \":\n",
    "        return 7\n",
    "    elif x == \"student\":\n",
    "        return 8\n",
    "    elif x ==\"unemployed\":\n",
    "        return 9\n",
    "    elif x == \"entrepreneur\":\n",
    "        return 10\n",
    "    elif x ==\"housemaid\":\n",
    "        return 11\n",
    "    else:  \n",
    "        return 10\n",
    "\n",
    "bankaVeriSeti[\"job_encode\"] = bankaVeriSeti.apply(lambda x: encode(x[\"job\"]), axis = 1)\n",
    "\n",
    "bankaVeriSeti = pd.get_dummies(bankaVeriSeti ,prefix = \"job\" \n",
    "                    ,columns = [\"job\"]\n",
    "                    ,drop_first = True)"
   ]
  },
  {
   "cell_type": "code",
   "execution_count": 27,
   "id": "10087506",
   "metadata": {},
   "outputs": [
    {
     "data": {
      "text/html": [
       "<div>\n",
       "<style scoped>\n",
       "    .dataframe tbody tr th:only-of-type {\n",
       "        vertical-align: middle;\n",
       "    }\n",
       "\n",
       "    .dataframe tbody tr th {\n",
       "        vertical-align: top;\n",
       "    }\n",
       "\n",
       "    .dataframe thead th {\n",
       "        text-align: right;\n",
       "    }\n",
       "</style>\n",
       "<table border=\"1\" class=\"dataframe\">\n",
       "  <thead>\n",
       "    <tr style=\"text-align: right;\">\n",
       "      <th></th>\n",
       "      <th>age</th>\n",
       "      <th>balance</th>\n",
       "      <th>day</th>\n",
       "      <th>duration</th>\n",
       "      <th>campaign</th>\n",
       "      <th>pdays</th>\n",
       "      <th>previous</th>\n",
       "      <th>deposit_encode</th>\n",
       "      <th>deposit_yes</th>\n",
       "      <th>poutcome_encode</th>\n",
       "      <th>...</th>\n",
       "      <th>job_entrepreneur</th>\n",
       "      <th>job_housemaid</th>\n",
       "      <th>job_management</th>\n",
       "      <th>job_retired</th>\n",
       "      <th>job_self-employed</th>\n",
       "      <th>job_services</th>\n",
       "      <th>job_student</th>\n",
       "      <th>job_technician</th>\n",
       "      <th>job_unemployed</th>\n",
       "      <th>job_unknown</th>\n",
       "    </tr>\n",
       "  </thead>\n",
       "  <tbody>\n",
       "    <tr>\n",
       "      <th>0</th>\n",
       "      <td>59</td>\n",
       "      <td>2343</td>\n",
       "      <td>5</td>\n",
       "      <td>1042</td>\n",
       "      <td>1</td>\n",
       "      <td>-1</td>\n",
       "      <td>0</td>\n",
       "      <td>1</td>\n",
       "      <td>1</td>\n",
       "      <td>0</td>\n",
       "      <td>...</td>\n",
       "      <td>0</td>\n",
       "      <td>0</td>\n",
       "      <td>0</td>\n",
       "      <td>0</td>\n",
       "      <td>0</td>\n",
       "      <td>0</td>\n",
       "      <td>0</td>\n",
       "      <td>0</td>\n",
       "      <td>0</td>\n",
       "      <td>0</td>\n",
       "    </tr>\n",
       "    <tr>\n",
       "      <th>1</th>\n",
       "      <td>56</td>\n",
       "      <td>45</td>\n",
       "      <td>5</td>\n",
       "      <td>1467</td>\n",
       "      <td>1</td>\n",
       "      <td>-1</td>\n",
       "      <td>0</td>\n",
       "      <td>1</td>\n",
       "      <td>1</td>\n",
       "      <td>0</td>\n",
       "      <td>...</td>\n",
       "      <td>0</td>\n",
       "      <td>0</td>\n",
       "      <td>0</td>\n",
       "      <td>0</td>\n",
       "      <td>0</td>\n",
       "      <td>0</td>\n",
       "      <td>0</td>\n",
       "      <td>0</td>\n",
       "      <td>0</td>\n",
       "      <td>0</td>\n",
       "    </tr>\n",
       "    <tr>\n",
       "      <th>2</th>\n",
       "      <td>41</td>\n",
       "      <td>1270</td>\n",
       "      <td>5</td>\n",
       "      <td>1389</td>\n",
       "      <td>1</td>\n",
       "      <td>-1</td>\n",
       "      <td>0</td>\n",
       "      <td>1</td>\n",
       "      <td>1</td>\n",
       "      <td>0</td>\n",
       "      <td>...</td>\n",
       "      <td>0</td>\n",
       "      <td>0</td>\n",
       "      <td>0</td>\n",
       "      <td>0</td>\n",
       "      <td>0</td>\n",
       "      <td>0</td>\n",
       "      <td>0</td>\n",
       "      <td>1</td>\n",
       "      <td>0</td>\n",
       "      <td>0</td>\n",
       "    </tr>\n",
       "    <tr>\n",
       "      <th>3</th>\n",
       "      <td>55</td>\n",
       "      <td>2476</td>\n",
       "      <td>5</td>\n",
       "      <td>579</td>\n",
       "      <td>1</td>\n",
       "      <td>-1</td>\n",
       "      <td>0</td>\n",
       "      <td>1</td>\n",
       "      <td>1</td>\n",
       "      <td>0</td>\n",
       "      <td>...</td>\n",
       "      <td>0</td>\n",
       "      <td>0</td>\n",
       "      <td>0</td>\n",
       "      <td>0</td>\n",
       "      <td>0</td>\n",
       "      <td>1</td>\n",
       "      <td>0</td>\n",
       "      <td>0</td>\n",
       "      <td>0</td>\n",
       "      <td>0</td>\n",
       "    </tr>\n",
       "    <tr>\n",
       "      <th>4</th>\n",
       "      <td>54</td>\n",
       "      <td>184</td>\n",
       "      <td>5</td>\n",
       "      <td>673</td>\n",
       "      <td>2</td>\n",
       "      <td>-1</td>\n",
       "      <td>0</td>\n",
       "      <td>1</td>\n",
       "      <td>1</td>\n",
       "      <td>0</td>\n",
       "      <td>...</td>\n",
       "      <td>0</td>\n",
       "      <td>0</td>\n",
       "      <td>0</td>\n",
       "      <td>0</td>\n",
       "      <td>0</td>\n",
       "      <td>0</td>\n",
       "      <td>0</td>\n",
       "      <td>0</td>\n",
       "      <td>0</td>\n",
       "      <td>0</td>\n",
       "    </tr>\n",
       "    <tr>\n",
       "      <th>...</th>\n",
       "      <td>...</td>\n",
       "      <td>...</td>\n",
       "      <td>...</td>\n",
       "      <td>...</td>\n",
       "      <td>...</td>\n",
       "      <td>...</td>\n",
       "      <td>...</td>\n",
       "      <td>...</td>\n",
       "      <td>...</td>\n",
       "      <td>...</td>\n",
       "      <td>...</td>\n",
       "      <td>...</td>\n",
       "      <td>...</td>\n",
       "      <td>...</td>\n",
       "      <td>...</td>\n",
       "      <td>...</td>\n",
       "      <td>...</td>\n",
       "      <td>...</td>\n",
       "      <td>...</td>\n",
       "      <td>...</td>\n",
       "      <td>...</td>\n",
       "    </tr>\n",
       "    <tr>\n",
       "      <th>95</th>\n",
       "      <td>37</td>\n",
       "      <td>122</td>\n",
       "      <td>19</td>\n",
       "      <td>1622</td>\n",
       "      <td>2</td>\n",
       "      <td>-1</td>\n",
       "      <td>0</td>\n",
       "      <td>1</td>\n",
       "      <td>1</td>\n",
       "      <td>0</td>\n",
       "      <td>...</td>\n",
       "      <td>0</td>\n",
       "      <td>0</td>\n",
       "      <td>1</td>\n",
       "      <td>0</td>\n",
       "      <td>0</td>\n",
       "      <td>0</td>\n",
       "      <td>0</td>\n",
       "      <td>0</td>\n",
       "      <td>0</td>\n",
       "      <td>0</td>\n",
       "    </tr>\n",
       "    <tr>\n",
       "      <th>96</th>\n",
       "      <td>30</td>\n",
       "      <td>880</td>\n",
       "      <td>19</td>\n",
       "      <td>967</td>\n",
       "      <td>6</td>\n",
       "      <td>-1</td>\n",
       "      <td>0</td>\n",
       "      <td>1</td>\n",
       "      <td>1</td>\n",
       "      <td>0</td>\n",
       "      <td>...</td>\n",
       "      <td>0</td>\n",
       "      <td>0</td>\n",
       "      <td>0</td>\n",
       "      <td>0</td>\n",
       "      <td>0</td>\n",
       "      <td>0</td>\n",
       "      <td>0</td>\n",
       "      <td>1</td>\n",
       "      <td>0</td>\n",
       "      <td>0</td>\n",
       "    </tr>\n",
       "    <tr>\n",
       "      <th>97</th>\n",
       "      <td>41</td>\n",
       "      <td>501</td>\n",
       "      <td>19</td>\n",
       "      <td>579</td>\n",
       "      <td>5</td>\n",
       "      <td>-1</td>\n",
       "      <td>0</td>\n",
       "      <td>1</td>\n",
       "      <td>1</td>\n",
       "      <td>0</td>\n",
       "      <td>...</td>\n",
       "      <td>0</td>\n",
       "      <td>0</td>\n",
       "      <td>0</td>\n",
       "      <td>0</td>\n",
       "      <td>0</td>\n",
       "      <td>0</td>\n",
       "      <td>0</td>\n",
       "      <td>1</td>\n",
       "      <td>0</td>\n",
       "      <td>0</td>\n",
       "    </tr>\n",
       "    <tr>\n",
       "      <th>98</th>\n",
       "      <td>36</td>\n",
       "      <td>4438</td>\n",
       "      <td>20</td>\n",
       "      <td>446</td>\n",
       "      <td>1</td>\n",
       "      <td>-1</td>\n",
       "      <td>0</td>\n",
       "      <td>1</td>\n",
       "      <td>1</td>\n",
       "      <td>0</td>\n",
       "      <td>...</td>\n",
       "      <td>0</td>\n",
       "      <td>0</td>\n",
       "      <td>0</td>\n",
       "      <td>0</td>\n",
       "      <td>0</td>\n",
       "      <td>0</td>\n",
       "      <td>0</td>\n",
       "      <td>0</td>\n",
       "      <td>0</td>\n",
       "      <td>0</td>\n",
       "    </tr>\n",
       "    <tr>\n",
       "      <th>99</th>\n",
       "      <td>35</td>\n",
       "      <td>0</td>\n",
       "      <td>20</td>\n",
       "      <td>1205</td>\n",
       "      <td>1</td>\n",
       "      <td>-1</td>\n",
       "      <td>0</td>\n",
       "      <td>1</td>\n",
       "      <td>1</td>\n",
       "      <td>0</td>\n",
       "      <td>...</td>\n",
       "      <td>0</td>\n",
       "      <td>0</td>\n",
       "      <td>0</td>\n",
       "      <td>0</td>\n",
       "      <td>0</td>\n",
       "      <td>0</td>\n",
       "      <td>0</td>\n",
       "      <td>0</td>\n",
       "      <td>0</td>\n",
       "      <td>0</td>\n",
       "    </tr>\n",
       "  </tbody>\n",
       "</table>\n",
       "<p>100 rows × 53 columns</p>\n",
       "</div>"
      ],
      "text/plain": [
       "    age  balance  day  duration  campaign  pdays  previous  deposit_encode  \\\n",
       "0    59     2343    5      1042         1     -1         0               1   \n",
       "1    56       45    5      1467         1     -1         0               1   \n",
       "2    41     1270    5      1389         1     -1         0               1   \n",
       "3    55     2476    5       579         1     -1         0               1   \n",
       "4    54      184    5       673         2     -1         0               1   \n",
       "..  ...      ...  ...       ...       ...    ...       ...             ...   \n",
       "95   37      122   19      1622         2     -1         0               1   \n",
       "96   30      880   19       967         6     -1         0               1   \n",
       "97   41      501   19       579         5     -1         0               1   \n",
       "98   36     4438   20       446         1     -1         0               1   \n",
       "99   35        0   20      1205         1     -1         0               1   \n",
       "\n",
       "    deposit_yes  poutcome_encode  ...  job_entrepreneur  job_housemaid  \\\n",
       "0             1                0  ...                 0              0   \n",
       "1             1                0  ...                 0              0   \n",
       "2             1                0  ...                 0              0   \n",
       "3             1                0  ...                 0              0   \n",
       "4             1                0  ...                 0              0   \n",
       "..          ...              ...  ...               ...            ...   \n",
       "95            1                0  ...                 0              0   \n",
       "96            1                0  ...                 0              0   \n",
       "97            1                0  ...                 0              0   \n",
       "98            1                0  ...                 0              0   \n",
       "99            1                0  ...                 0              0   \n",
       "\n",
       "    job_management  job_retired  job_self-employed  job_services  job_student  \\\n",
       "0                0            0                  0             0            0   \n",
       "1                0            0                  0             0            0   \n",
       "2                0            0                  0             0            0   \n",
       "3                0            0                  0             1            0   \n",
       "4                0            0                  0             0            0   \n",
       "..             ...          ...                ...           ...          ...   \n",
       "95               1            0                  0             0            0   \n",
       "96               0            0                  0             0            0   \n",
       "97               0            0                  0             0            0   \n",
       "98               0            0                  0             0            0   \n",
       "99               0            0                  0             0            0   \n",
       "\n",
       "    job_technician  job_unemployed  job_unknown  \n",
       "0                0               0            0  \n",
       "1                0               0            0  \n",
       "2                1               0            0  \n",
       "3                0               0            0  \n",
       "4                0               0            0  \n",
       "..             ...             ...          ...  \n",
       "95               0               0            0  \n",
       "96               1               0            0  \n",
       "97               1               0            0  \n",
       "98               0               0            0  \n",
       "99               0               0            0  \n",
       "\n",
       "[100 rows x 53 columns]"
      ]
     },
     "execution_count": 27,
     "metadata": {},
     "output_type": "execute_result"
    }
   ],
   "source": [
    "bankaVeriSeti.head(100)"
   ]
  },
  {
   "cell_type": "code",
   "execution_count": 28,
   "id": "ece573fc",
   "metadata": {},
   "outputs": [],
   "source": [
    "#artık tüm özelliklerimiz anlamlı değerler kazandı\n",
    "#veri setini incelediğimizde duration geçen konuşma süresini göstermektedir. Doğru bir makine öğrenmesi çalışması için \"duraiton\" özelliği kaldırılacak\n",
    "\n",
    "del bankaVeriSeti['duration']\n"
   ]
  },
  {
   "cell_type": "code",
   "execution_count": 29,
   "id": "762068b6",
   "metadata": {},
   "outputs": [],
   "source": [
    "#veri setimizi incelersek veri setimiz banka müşterilerinin özelliklerinde oluşmaktadır."
   ]
  },
  {
   "cell_type": "code",
   "execution_count": 30,
   "id": "e7c33004",
   "metadata": {},
   "outputs": [
    {
     "data": {
      "text/html": [
       "<div>\n",
       "<style scoped>\n",
       "    .dataframe tbody tr th:only-of-type {\n",
       "        vertical-align: middle;\n",
       "    }\n",
       "\n",
       "    .dataframe tbody tr th {\n",
       "        vertical-align: top;\n",
       "    }\n",
       "\n",
       "    .dataframe thead th {\n",
       "        text-align: right;\n",
       "    }\n",
       "</style>\n",
       "<table border=\"1\" class=\"dataframe\">\n",
       "  <thead>\n",
       "    <tr style=\"text-align: right;\">\n",
       "      <th></th>\n",
       "      <th>age</th>\n",
       "      <th>balance</th>\n",
       "      <th>day</th>\n",
       "      <th>campaign</th>\n",
       "      <th>pdays</th>\n",
       "      <th>previous</th>\n",
       "      <th>deposit_encode</th>\n",
       "      <th>deposit_yes</th>\n",
       "      <th>poutcome_encode</th>\n",
       "      <th>poutcome_other</th>\n",
       "      <th>...</th>\n",
       "      <th>job_entrepreneur</th>\n",
       "      <th>job_housemaid</th>\n",
       "      <th>job_management</th>\n",
       "      <th>job_retired</th>\n",
       "      <th>job_self-employed</th>\n",
       "      <th>job_services</th>\n",
       "      <th>job_student</th>\n",
       "      <th>job_technician</th>\n",
       "      <th>job_unemployed</th>\n",
       "      <th>job_unknown</th>\n",
       "    </tr>\n",
       "  </thead>\n",
       "  <tbody>\n",
       "    <tr>\n",
       "      <th>0</th>\n",
       "      <td>59</td>\n",
       "      <td>2343</td>\n",
       "      <td>5</td>\n",
       "      <td>1</td>\n",
       "      <td>-1</td>\n",
       "      <td>0</td>\n",
       "      <td>1</td>\n",
       "      <td>1</td>\n",
       "      <td>0</td>\n",
       "      <td>0</td>\n",
       "      <td>...</td>\n",
       "      <td>0</td>\n",
       "      <td>0</td>\n",
       "      <td>0</td>\n",
       "      <td>0</td>\n",
       "      <td>0</td>\n",
       "      <td>0</td>\n",
       "      <td>0</td>\n",
       "      <td>0</td>\n",
       "      <td>0</td>\n",
       "      <td>0</td>\n",
       "    </tr>\n",
       "    <tr>\n",
       "      <th>1</th>\n",
       "      <td>56</td>\n",
       "      <td>45</td>\n",
       "      <td>5</td>\n",
       "      <td>1</td>\n",
       "      <td>-1</td>\n",
       "      <td>0</td>\n",
       "      <td>1</td>\n",
       "      <td>1</td>\n",
       "      <td>0</td>\n",
       "      <td>0</td>\n",
       "      <td>...</td>\n",
       "      <td>0</td>\n",
       "      <td>0</td>\n",
       "      <td>0</td>\n",
       "      <td>0</td>\n",
       "      <td>0</td>\n",
       "      <td>0</td>\n",
       "      <td>0</td>\n",
       "      <td>0</td>\n",
       "      <td>0</td>\n",
       "      <td>0</td>\n",
       "    </tr>\n",
       "    <tr>\n",
       "      <th>2</th>\n",
       "      <td>41</td>\n",
       "      <td>1270</td>\n",
       "      <td>5</td>\n",
       "      <td>1</td>\n",
       "      <td>-1</td>\n",
       "      <td>0</td>\n",
       "      <td>1</td>\n",
       "      <td>1</td>\n",
       "      <td>0</td>\n",
       "      <td>0</td>\n",
       "      <td>...</td>\n",
       "      <td>0</td>\n",
       "      <td>0</td>\n",
       "      <td>0</td>\n",
       "      <td>0</td>\n",
       "      <td>0</td>\n",
       "      <td>0</td>\n",
       "      <td>0</td>\n",
       "      <td>1</td>\n",
       "      <td>0</td>\n",
       "      <td>0</td>\n",
       "    </tr>\n",
       "    <tr>\n",
       "      <th>3</th>\n",
       "      <td>55</td>\n",
       "      <td>2476</td>\n",
       "      <td>5</td>\n",
       "      <td>1</td>\n",
       "      <td>-1</td>\n",
       "      <td>0</td>\n",
       "      <td>1</td>\n",
       "      <td>1</td>\n",
       "      <td>0</td>\n",
       "      <td>0</td>\n",
       "      <td>...</td>\n",
       "      <td>0</td>\n",
       "      <td>0</td>\n",
       "      <td>0</td>\n",
       "      <td>0</td>\n",
       "      <td>0</td>\n",
       "      <td>1</td>\n",
       "      <td>0</td>\n",
       "      <td>0</td>\n",
       "      <td>0</td>\n",
       "      <td>0</td>\n",
       "    </tr>\n",
       "    <tr>\n",
       "      <th>4</th>\n",
       "      <td>54</td>\n",
       "      <td>184</td>\n",
       "      <td>5</td>\n",
       "      <td>2</td>\n",
       "      <td>-1</td>\n",
       "      <td>0</td>\n",
       "      <td>1</td>\n",
       "      <td>1</td>\n",
       "      <td>0</td>\n",
       "      <td>0</td>\n",
       "      <td>...</td>\n",
       "      <td>0</td>\n",
       "      <td>0</td>\n",
       "      <td>0</td>\n",
       "      <td>0</td>\n",
       "      <td>0</td>\n",
       "      <td>0</td>\n",
       "      <td>0</td>\n",
       "      <td>0</td>\n",
       "      <td>0</td>\n",
       "      <td>0</td>\n",
       "    </tr>\n",
       "  </tbody>\n",
       "</table>\n",
       "<p>5 rows × 52 columns</p>\n",
       "</div>"
      ],
      "text/plain": [
       "   age  balance  day  campaign  pdays  previous  deposit_encode  deposit_yes  \\\n",
       "0   59     2343    5         1     -1         0               1            1   \n",
       "1   56       45    5         1     -1         0               1            1   \n",
       "2   41     1270    5         1     -1         0               1            1   \n",
       "3   55     2476    5         1     -1         0               1            1   \n",
       "4   54      184    5         2     -1         0               1            1   \n",
       "\n",
       "   poutcome_encode  poutcome_other  ...  job_entrepreneur  job_housemaid  \\\n",
       "0                0               0  ...                 0              0   \n",
       "1                0               0  ...                 0              0   \n",
       "2                0               0  ...                 0              0   \n",
       "3                0               0  ...                 0              0   \n",
       "4                0               0  ...                 0              0   \n",
       "\n",
       "   job_management  job_retired  job_self-employed  job_services  job_student  \\\n",
       "0               0            0                  0             0            0   \n",
       "1               0            0                  0             0            0   \n",
       "2               0            0                  0             0            0   \n",
       "3               0            0                  0             1            0   \n",
       "4               0            0                  0             0            0   \n",
       "\n",
       "   job_technician  job_unemployed  job_unknown  \n",
       "0               0               0            0  \n",
       "1               0               0            0  \n",
       "2               1               0            0  \n",
       "3               0               0            0  \n",
       "4               0               0            0  \n",
       "\n",
       "[5 rows x 52 columns]"
      ]
     },
     "execution_count": 30,
     "metadata": {},
     "output_type": "execute_result"
    }
   ],
   "source": [
    "bankaVeriSeti.head()"
   ]
  },
  {
   "cell_type": "code",
   "execution_count": 31,
   "id": "e8adfbaf",
   "metadata": {},
   "outputs": [],
   "source": [
    "#Veri setimşzde merak ettiğimiz konu \"müşteri vadeli mevduat hesabı aldı mı?\" olacaktır.\n",
    "#bunun için \"default\" değerine bakılacak (defaul_encode)\n",
    "#veri setmizi girdi ve çıktı(default(bağımlı değiken)) olarak ayıralım"
   ]
  },
  {
   "cell_type": "code",
   "execution_count": 32,
   "id": "869891a4",
   "metadata": {},
   "outputs": [
    {
     "data": {
      "text/plain": [
       "0    10994\n",
       "1      168\n",
       "Name: default_encode, dtype: int64"
      ]
     },
     "execution_count": 32,
     "metadata": {},
     "output_type": "execute_result"
    }
   ],
   "source": [
    "bankaVeriSeti['default_encode'].value_counts()"
   ]
  },
  {
   "cell_type": "code",
   "execution_count": 33,
   "id": "a74a4b62",
   "metadata": {},
   "outputs": [
    {
     "name": "stdout",
     "output_type": "stream",
     "text": [
      "abonelik olmamasının yüzdesi  98.49489338828167\n",
      "abonelik yüzdesi 1.50510661171833\n"
     ]
    }
   ],
   "source": [
    "count_no_sub = len(bankaVeriSeti[bankaVeriSeti['default_encode']==0]) \n",
    "count_sub = len(bankaVeriSeti[bankaVeriSeti['default_encode']==1]) \n",
    "pct_of_no_sub = count_no_sub/(count_no_sub+count_sub) \n",
    "print(\"abonelik olmamasının yüzdesi \", pct_of_no_sub*100) \n",
    "pct_of_sub = count_sub/(count_no_sub+count_sub) \n",
    "print(\"abonelik yüzdesi\", pct_of_sub*100)\n",
    "#sonuçlara bakılınca veriler neredeyse hiç eşit dağılmamış "
   ]
  },
  {
   "cell_type": "code",
   "execution_count": 34,
   "id": "9e1be8ec",
   "metadata": {},
   "outputs": [],
   "source": [
    "x=bankaVeriSeti.drop(\"default_encode\", axis=1)#bağımsız değişkenler\n",
    "y=bankaVeriSeti[\"default_encode\"] #bağımlı değişkenler"
   ]
  },
  {
   "cell_type": "code",
   "execution_count": 35,
   "id": "4e2c8615",
   "metadata": {},
   "outputs": [],
   "source": [
    "x_train,x_test,y_train,y_test=train_test_split(x,y,test_size=0.33, random_state=0)"
   ]
  },
  {
   "cell_type": "code",
   "execution_count": 36,
   "id": "31cb8252",
   "metadata": {},
   "outputs": [],
   "source": [
    "#LOGİSTİC REGRASYON"
   ]
  },
  {
   "cell_type": "code",
   "execution_count": null,
   "id": "3965f049",
   "metadata": {},
   "outputs": [],
   "source": []
  },
  {
   "cell_type": "code",
   "execution_count": 37,
   "id": "eb653bc1",
   "metadata": {},
   "outputs": [],
   "source": [
    "#Lojistik regrasyon"
   ]
  },
  {
   "cell_type": "code",
   "execution_count": 38,
   "id": "785660c3",
   "metadata": {},
   "outputs": [
    {
     "name": "stderr",
     "output_type": "stream",
     "text": [
      "D:\\Users\\Sema Bayrak\\Anaconda3\\lib\\site-packages\\sklearn\\linear_model\\_logistic.py:814: ConvergenceWarning: lbfgs failed to converge (status=1):\n",
      "STOP: TOTAL NO. of ITERATIONS REACHED LIMIT.\n",
      "\n",
      "Increase the number of iterations (max_iter) or scale the data as shown in:\n",
      "    https://scikit-learn.org/stable/modules/preprocessing.html\n",
      "Please also refer to the documentation for alternative solver options:\n",
      "    https://scikit-learn.org/stable/modules/linear_model.html#logistic-regression\n",
      "  n_iter_i = _check_optimize_result(\n"
     ]
    }
   ],
   "source": [
    "logr=LogisticRegression(random_state=0)\n",
    "logr.fit(x_train,y_train) #x_train ve y_train  bilgileri ile fit ediyor(eğitiyor)\n",
    "#predict=tahmin et\n",
    "y_pred_logr=logr.predict(x_test)"
   ]
  },
  {
   "cell_type": "code",
   "execution_count": 39,
   "id": "e8317f31",
   "metadata": {},
   "outputs": [
    {
     "data": {
      "text/plain": [
       "array([[3633,    0],\n",
       "       [   5,   46]], dtype=int64)"
      ]
     },
     "execution_count": 39,
     "metadata": {},
     "output_type": "execute_result"
    }
   ],
   "source": [
    "#Konfüsyon Matrisi\n",
    "cm_logr=confusion_matrix(y_test,y_pred_logr)\n",
    "cm_logr"
   ]
  },
  {
   "cell_type": "code",
   "execution_count": 40,
   "id": "e948b2d3",
   "metadata": {},
   "outputs": [
    {
     "data": {
      "text/plain": [
       "<sklearn.metrics._plot.confusion_matrix.ConfusionMatrixDisplay at 0x25e376c22b0>"
      ]
     },
     "execution_count": 40,
     "metadata": {},
     "output_type": "execute_result"
    },
    {
     "data": {
      "image/png": "[encoded data removed]",
      "text/plain": [
       "<Figure size 432x288 with 2 Axes>"
      ]
     },
     "metadata": {
      "needs_background": "light"
     },
     "output_type": "display_data"
    }
   ],
   "source": [
    "disp = ConfusionMatrixDisplay(confusion_matrix=cm_logr, display_labels=logr.classes_)\n",
    "disp.plot()"
   ]
  },
  {
   "cell_type": "code",
   "execution_count": 41,
   "id": "50a075ae",
   "metadata": {},
   "outputs": [
    {
     "data": {
      "text/plain": [
       "0.998642779587405"
      ]
     },
     "execution_count": 41,
     "metadata": {},
     "output_type": "execute_result"
    }
   ],
   "source": [
    "#accuracy\n",
    "accuracy_score_logr=accuracy_score(y_test,y_pred_logr)\n",
    "accuracy_score_logr"
   ]
  },
  {
   "cell_type": "code",
   "execution_count": 42,
   "id": "696a847f",
   "metadata": {},
   "outputs": [
    {
     "data": {
      "text/plain": [
       "1.0"
      ]
     },
     "execution_count": 42,
     "metadata": {},
     "output_type": "execute_result"
    }
   ],
   "source": [
    "#precision\n",
    "precision_score_logr=precision_score(y_test,y_pred_logr)\n",
    "precision_score_logr"
   ]
  },
  {
   "cell_type": "code",
   "execution_count": 43,
   "id": "68a39a1b",
   "metadata": {},
   "outputs": [
    {
     "data": {
      "text/plain": [
       "0.9019607843137255"
      ]
     },
     "execution_count": 43,
     "metadata": {},
     "output_type": "execute_result"
    }
   ],
   "source": [
    "#recall\n",
    "recall_score_logr=recall_score(y_test,y_pred_logr)\n",
    "recall_score_logr"
   ]
  },
  {
   "cell_type": "code",
   "execution_count": 44,
   "id": "65d5fb9b",
   "metadata": {},
   "outputs": [
    {
     "data": {
      "text/plain": [
       "0.9484536082474228"
      ]
     },
     "execution_count": 44,
     "metadata": {},
     "output_type": "execute_result"
    }
   ],
   "source": [
    "#f1 skor\n",
    "f1_score_logr=f1_score(y_test,y_pred_logr)\n",
    "f1_score_logr"
   ]
  },
  {
   "cell_type": "code",
   "execution_count": 45,
   "id": "8f39669b",
   "metadata": {},
   "outputs": [],
   "source": [
    "#NAİVE BAYES"
   ]
  },
  {
   "cell_type": "code",
   "execution_count": 46,
   "id": "181d7ea2",
   "metadata": {},
   "outputs": [],
   "source": [
    "Bnb=BernoulliNB()"
   ]
  },
  {
   "cell_type": "code",
   "execution_count": 47,
   "id": "e8f492c6",
   "metadata": {},
   "outputs": [
    {
     "data": {
      "text/plain": [
       "BernoulliNB()"
      ]
     },
     "execution_count": 47,
     "metadata": {},
     "output_type": "execute_result"
    }
   ],
   "source": [
    "Bnb.fit(x_train,y_train)"
   ]
  },
  {
   "cell_type": "code",
   "execution_count": 48,
   "id": "a6e9ddfe",
   "metadata": {},
   "outputs": [],
   "source": [
    "y_pred_Bnb=Bnb.predict(x_test)"
   ]
  },
  {
   "cell_type": "code",
   "execution_count": 49,
   "id": "3742360f",
   "metadata": {},
   "outputs": [
    {
     "data": {
      "text/plain": [
       "array([[3633,    0],\n",
       "       [   3,   48]], dtype=int64)"
      ]
     },
     "execution_count": 49,
     "metadata": {},
     "output_type": "execute_result"
    }
   ],
   "source": [
    "#Konfüsyon Matrisi\n",
    "cm_Bnb=confusion_matrix(y_test,y_pred_Bnb)\n",
    "cm_Bnb"
   ]
  },
  {
   "cell_type": "code",
   "execution_count": 50,
   "id": "a7ce7f46",
   "metadata": {},
   "outputs": [
    {
     "data": {
      "text/plain": [
       "<sklearn.metrics._plot.confusion_matrix.ConfusionMatrixDisplay at 0x25e3744ad00>"
      ]
     },
     "execution_count": 50,
     "metadata": {},
     "output_type": "execute_result"
    },
    {
     "data": {
      "image/png": "[encoded data removed]",
      "text/plain": [
       "<Figure size 432x288 with 2 Axes>"
      ]
     },
     "metadata": {
      "needs_background": "light"
     },
     "output_type": "display_data"
    }
   ],
   "source": [
    "disp = ConfusionMatrixDisplay(confusion_matrix=cm_Bnb, display_labels=Bnb.classes_)\n",
    "disp.plot()"
   ]
  },
  {
   "cell_type": "code",
   "execution_count": 51,
   "id": "a5f35f90",
   "metadata": {},
   "outputs": [
    {
     "data": {
      "text/plain": [
       "0.999185667752443"
      ]
     },
     "execution_count": 51,
     "metadata": {},
     "output_type": "execute_result"
    }
   ],
   "source": [
    "#accuracy\n",
    "accuracy_score_Bnb=accuracy_score(y_test,y_pred_Bnb)\n",
    "accuracy_score_Bnb"
   ]
  },
  {
   "cell_type": "code",
   "execution_count": 52,
   "id": "79cfe5e2",
   "metadata": {},
   "outputs": [
    {
     "data": {
      "text/plain": [
       "1.0"
      ]
     },
     "execution_count": 52,
     "metadata": {},
     "output_type": "execute_result"
    }
   ],
   "source": [
    "#precision\n",
    "precision_score_Bnb=precision_score(y_test,y_pred_Bnb)\n",
    "precision_score_Bnb"
   ]
  },
  {
   "cell_type": "code",
   "execution_count": 53,
   "id": "fb375c8e",
   "metadata": {},
   "outputs": [
    {
     "data": {
      "text/plain": [
       "0.9411764705882353"
      ]
     },
     "execution_count": 53,
     "metadata": {},
     "output_type": "execute_result"
    }
   ],
   "source": [
    "#recall\n",
    "recall_score_Bnb=recall_score(y_test,y_pred_Bnb)\n",
    "recall_score_Bnb"
   ]
  },
  {
   "cell_type": "code",
   "execution_count": 54,
   "id": "b02f23c5",
   "metadata": {},
   "outputs": [
    {
     "data": {
      "text/plain": [
       "0.9696969696969697"
      ]
     },
     "execution_count": 54,
     "metadata": {},
     "output_type": "execute_result"
    }
   ],
   "source": [
    "#f1 skor\n",
    "f1_score_Bnb=f1_score(y_test,y_pred_Bnb)\n",
    "f1_score_Bnb"
   ]
  },
  {
   "cell_type": "code",
   "execution_count": 65,
   "id": "08c3487f",
   "metadata": {},
   "outputs": [],
   "source": [
    "#SVM"
   ]
  },
  {
   "cell_type": "code",
   "execution_count": 66,
   "id": "e4d568bc",
   "metadata": {},
   "outputs": [],
   "source": [
    "svc=SVC(kernel='linear')#modelimiz doğrusal bir ayrım noktası bulmaa çalışacak\n",
    "svc.fit(x_train,y_train)\n",
    "\n",
    "y_pred_svc=svc.predict(x_test)"
   ]
  },
  {
   "cell_type": "code",
   "execution_count": 67,
   "id": "cc0a2787",
   "metadata": {},
   "outputs": [
    {
     "data": {
      "text/plain": [
       "array([[3633,    0],\n",
       "       [   1,   50]], dtype=int64)"
      ]
     },
     "execution_count": 67,
     "metadata": {},
     "output_type": "execute_result"
    }
   ],
   "source": [
    "cm_svc=confusion_matrix(y_test,y_pred_svc)\n",
    "cm_svc"
   ]
  },
  {
   "cell_type": "code",
   "execution_count": 68,
   "id": "9b494195",
   "metadata": {},
   "outputs": [
    {
     "data": {
      "text/plain": [
       "<sklearn.metrics._plot.confusion_matrix.ConfusionMatrixDisplay at 0x25e31e02220>"
      ]
     },
     "execution_count": 68,
     "metadata": {},
     "output_type": "execute_result"
    },
    {
     "data": {
      "image/png": "[encoded data removed]",
      "text/plain": [
       "<Figure size 432x288 with 2 Axes>"
      ]
     },
     "metadata": {
      "needs_background": "light"
     },
     "output_type": "display_data"
    }
   ],
   "source": [
    "disp = ConfusionMatrixDisplay(confusion_matrix=cm_svc, display_labels=svc.classes_)\n",
    "disp.plot()"
   ]
  },
  {
   "cell_type": "code",
   "execution_count": 79,
   "id": "71254bcf",
   "metadata": {},
   "outputs": [
    {
     "data": {
      "text/plain": [
       "0.9766558089033659"
      ]
     },
     "execution_count": 79,
     "metadata": {},
     "output_type": "execute_result"
    }
   ],
   "source": [
    "#accuracy\n",
    "accuracy_score_svc=accuracy_score(y_test,y_pred_svc)\n",
    "accuracy_score_svc"
   ]
  },
  {
   "cell_type": "code",
   "execution_count": 80,
   "id": "700098ec",
   "metadata": {},
   "outputs": [
    {
     "data": {
      "text/plain": [
       "0.1276595744680851"
      ]
     },
     "execution_count": 80,
     "metadata": {},
     "output_type": "execute_result"
    }
   ],
   "source": [
    "#precision\n",
    "precision_score_svc=precision_score(y_test,y_pred_svc)\n",
    "precision_score_svc"
   ]
  },
  {
   "cell_type": "code",
   "execution_count": 81,
   "id": "d3f355fb",
   "metadata": {},
   "outputs": [
    {
     "data": {
      "text/plain": [
       "0.11764705882352941"
      ]
     },
     "execution_count": 81,
     "metadata": {},
     "output_type": "execute_result"
    }
   ],
   "source": [
    "#recall\n",
    "recall_score_svc=recall_score(y_test,y_pred_svc)\n",
    "recall_score_svc"
   ]
  },
  {
   "cell_type": "code",
   "execution_count": 82,
   "id": "57ba3fa0",
   "metadata": {},
   "outputs": [
    {
     "data": {
      "text/plain": [
       "0.12244897959183672"
      ]
     },
     "execution_count": 82,
     "metadata": {},
     "output_type": "execute_result"
    }
   ],
   "source": [
    "#f1 skor\n",
    "f1_score_svc=f1_score(y_test,y_pred_svc)\n",
    "f1_score_svc"
   ]
  },
  {
   "cell_type": "code",
   "execution_count": 83,
   "id": "776821ab",
   "metadata": {},
   "outputs": [],
   "source": [
    "#KNN"
   ]
  },
  {
   "cell_type": "code",
   "execution_count": 84,
   "id": "3df319f7",
   "metadata": {},
   "outputs": [],
   "source": [
    "knn=KNeighborsClassifier(n_neighbors=5,metric='minkowski') #komşu sayısını azaltınca doğruluk yükselir"
   ]
  },
  {
   "cell_type": "code",
   "execution_count": 85,
   "id": "f9c157aa",
   "metadata": {},
   "outputs": [],
   "source": [
    "knn.fit(x_train,y_train)\n",
    "y_pred_knn=knn.predict(x_test)"
   ]
  },
  {
   "cell_type": "code",
   "execution_count": 86,
   "id": "eb0d2f07",
   "metadata": {},
   "outputs": [
    {
     "data": {
      "text/plain": [
       "array([[3630,    3],\n",
       "       [  51,    0]], dtype=int64)"
      ]
     },
     "execution_count": 86,
     "metadata": {},
     "output_type": "execute_result"
    }
   ],
   "source": [
    "#Konfüsyon Matrisi\n",
    "cm_knn=confusion_matrix(y_test,y_pred_knn)\n",
    "cm_knn"
   ]
  },
  {
   "cell_type": "code",
   "execution_count": 87,
   "id": "fe1f7b17",
   "metadata": {},
   "outputs": [
    {
     "data": {
      "text/plain": [
       "<sklearn.metrics._plot.confusion_matrix.ConfusionMatrixDisplay at 0x25e38dc0d00>"
      ]
     },
     "execution_count": 87,
     "metadata": {},
     "output_type": "execute_result"
    },
    {
     "data": {
      "image/png": "[encoded data removed]",
      "text/plain": [
       "<Figure size 432x288 with 2 Axes>"
      ]
     },
     "metadata": {
      "needs_background": "light"
     },
     "output_type": "display_data"
    }
   ],
   "source": [
    "disp = ConfusionMatrixDisplay(confusion_matrix=cm_knn, display_labels=knn.classes_)\n",
    "disp.plot()"
   ]
  },
  {
   "cell_type": "code",
   "execution_count": 60,
   "id": "1132c012",
   "metadata": {},
   "outputs": [
    {
     "data": {
      "text/plain": [
       "0.9853420195439739"
      ]
     },
     "execution_count": 60,
     "metadata": {},
     "output_type": "execute_result"
    }
   ],
   "source": [
    "#accuracy\n",
    "accuracy_score_knn=accuracy_score(y_test,y_pred_knn)\n",
    "accuracy_score_knn"
   ]
  },
  {
   "cell_type": "code",
   "execution_count": 61,
   "id": "ea13acfa",
   "metadata": {},
   "outputs": [
    {
     "data": {
      "text/plain": [
       "0.0"
      ]
     },
     "execution_count": 61,
     "metadata": {},
     "output_type": "execute_result"
    }
   ],
   "source": [
    "#precision\n",
    "precision_score_knn=precision_score(y_test,y_pred_knn)\n",
    "precision_score_knn"
   ]
  },
  {
   "cell_type": "code",
   "execution_count": 62,
   "id": "7b9b149a",
   "metadata": {},
   "outputs": [
    {
     "data": {
      "text/plain": [
       "0.0"
      ]
     },
     "execution_count": 62,
     "metadata": {},
     "output_type": "execute_result"
    }
   ],
   "source": [
    "#recall\n",
    "recall_score_knn=recall_score(y_test,y_pred_knn)\n",
    "recall_score_knn"
   ]
  },
  {
   "cell_type": "code",
   "execution_count": 63,
   "id": "ba22dada",
   "metadata": {},
   "outputs": [
    {
     "data": {
      "text/plain": [
       "0.0"
      ]
     },
     "execution_count": 63,
     "metadata": {},
     "output_type": "execute_result"
    }
   ],
   "source": [
    "#f1 skor\n",
    "f1_score_knn=f1_score(y_test,y_pred_knn)\n",
    "f1_score_knn"
   ]
  },
  {
   "cell_type": "code",
   "execution_count": 64,
   "id": "aac1716d",
   "metadata": {},
   "outputs": [],
   "source": [
    "#Neural Network"
   ]
  },
  {
   "cell_type": "code",
   "execution_count": null,
   "id": "4044634e",
   "metadata": {},
   "outputs": [],
   "source": []
  }
 ],
 "metadata": {
  "kernelspec": {
   "display_name": "Python 3 (ipykernel)",
   "language": "python",
   "name": "python3"
  },
  "language_info": {
   "codemirror_mode": {
    "name": "ipython",
    "version": 3
   },
   "file_extension": ".py",
   "mimetype": "text/x-python",
   "name": "python",
   "nbconvert_exporter": "python",
   "pygments_lexer": "ipython3",
   "version": "3.9.12"
  }
 },
 "nbformat": 4,
 "nbformat_minor": 5
}
